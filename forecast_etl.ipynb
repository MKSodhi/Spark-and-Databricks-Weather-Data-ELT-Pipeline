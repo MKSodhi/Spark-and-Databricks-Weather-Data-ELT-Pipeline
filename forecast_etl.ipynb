{
 "cells": [
  {
   "cell_type": "code",
   "execution_count": 0,
   "metadata": {
    "application/vnd.databricks.v1+cell": {
     "cellMetadata": {
      "byteLimit": 2048000,
      "rowLimit": 10000
     },
     "inputWidgets": {},
     "nuid": "3e30ab05-da1b-4f07-a2dc-e482796c01e0",
     "showTitle": false,
     "title": ""
    }
   },
   "outputs": [],
   "source": [
    "%py\n",
    "\n",
    "import requests\n",
    "import json\n",
    "from pyspark.sql import SparkSession\n",
    "from pyspark.sql.types import StructType, StructField, StringType, IntegerType"
   ]
  },
  {
   "cell_type": "code",
   "execution_count": 0,
   "metadata": {
    "application/vnd.databricks.v1+cell": {
     "cellMetadata": {
      "byteLimit": 2048000,
      "rowLimit": 10000
     },
     "inputWidgets": {},
     "nuid": "9acf0545-233a-4111-b1c7-95c134cdf567",
     "showTitle": false,
     "title": ""
    }
   },
   "outputs": [],
   "source": [
    "%py\n",
    "\n",
    "# Definindo o URL da API e fazendo a requisição GET\n",
    "api_url = 'https://api.weather.gov/gridpoints/MPX/107,66/forecast'\n",
    "response = requests.get(api_url)\n",
    "\n",
    "# Verificando se a requisição foi bem-sucedida\n",
    "if response.status_code == 200:\n",
    "    data = response.json()\n",
    "    forecast_data = data['properties']['periods']  # Extraindo as previsões\n",
    "    forecast_json = json.dumps(forecast_data)  # Convertendo para JSON string\n",
    "else:\n",
    "    print(f\"Falha ao acessar a API. Status code: {response.status_code}\")"
   ]
  },
  {
   "cell_type": "code",
   "execution_count": 0,
   "metadata": {
    "application/vnd.databricks.v1+cell": {
     "cellMetadata": {
      "byteLimit": 2048000,
      "rowLimit": 10000
     },
     "inputWidgets": {},
     "nuid": "937fe421-662f-4d19-a29c-37a1717ad1ba",
     "showTitle": false,
     "title": ""
    }
   },
   "outputs": [
    {
     "output_type": "stream",
     "name": "stdout",
     "output_type": "stream",
     "text": [
      "+------+---------------+--------------------+--------------------+-----------+---------------+------------+-------------+--------------------+--------------------+\n|number|           name|           startTime|             endTime|temperature|temperatureUnit|   windSpeed|windDirection|       shortForecast|    detailedForecast|\n+------+---------------+--------------------+--------------------+-----------+---------------+------------+-------------+--------------------+--------------------+\n|     1| This Afternoon|2024-09-12T17:00:...|2024-09-12T18:00:...|         86|              F|      10 mph|          SSE|        Mostly Sunny|Mostly sunny, wit...|\n|     2|        Tonight|2024-09-12T18:00:...|2024-09-13T06:00:...|         63|              F| 5 to 10 mph|           SE|        Mostly Clear|Mostly clear, wit...|\n|     3|         Friday|2024-09-13T06:00:...|2024-09-13T18:00:...|         84|              F| 5 to 10 mph|           SE|               Sunny|Sunny, with a hig...|\n|     4|   Friday Night|2024-09-13T18:00:...|2024-09-14T06:00:...|         65|              F| 5 to 10 mph|           SE|Mostly Cloudy the...|A chance of showe...|\n|     5|       Saturday|2024-09-14T06:00:...|2024-09-14T18:00:...|         78|              F|       5 mph|           SE|Chance Showers An...|A chance of showe...|\n|     6| Saturday Night|2024-09-14T18:00:...|2024-09-15T06:00:...|         65|              F|       5 mph|           SE|Chance Showers An...|A chance of showe...|\n|     7|         Sunday|2024-09-15T06:00:...|2024-09-15T18:00:...|         85|              F| 5 to 10 mph|          SSE|        Mostly Sunny|Mostly sunny. Hig...|\n|     8|   Sunday Night|2024-09-15T18:00:...|2024-09-16T06:00:...|         66|              F|       5 mph|          SSE|        Mostly Clear|Mostly clear, wit...|\n|     9|         Monday|2024-09-16T06:00:...|2024-09-16T18:00:...|         83|              F| 5 to 10 mph|          SSE|        Mostly Sunny|Mostly sunny, wit...|\n|    10|   Monday Night|2024-09-16T18:00:...|2024-09-17T06:00:...|         66|              F| 5 to 10 mph|          SSE|       Partly Cloudy|Partly cloudy, wi...|\n|    11|        Tuesday|2024-09-17T06:00:...|2024-09-17T18:00:...|         83|              F| 5 to 15 mph|          SSE|        Mostly Sunny|Mostly sunny, wit...|\n|    12|  Tuesday Night|2024-09-17T18:00:...|2024-09-18T06:00:...|         67|              F|      10 mph|          SSE|Mostly Clear then...|A slight chance o...|\n|    13|      Wednesday|2024-09-18T06:00:...|2024-09-18T18:00:...|         82|              F|10 to 15 mph|          SSE|Chance Showers An...|A slight chance o...|\n|    14|Wednesday Night|2024-09-18T18:00:...|2024-09-19T06:00:...|         65|              F| 5 to 10 mph|          SSE|Chance Showers An...|A chance of rain ...|\n+------+---------------+--------------------+--------------------+-----------+---------------+------------+-------------+--------------------+--------------------+\n\n"
     ]
    }
   ],
   "source": [
    "%py\n",
    "\n",
    "# Definindo o schema para os dados\n",
    "schema = StructType([\n",
    "    StructField(\"number\", IntegerType(), True),\n",
    "    StructField(\"name\", StringType(), True),\n",
    "    StructField(\"startTime\", StringType(), True),\n",
    "    StructField(\"endTime\", StringType(), True),\n",
    "    StructField(\"temperature\", IntegerType(), True),\n",
    "    StructField(\"temperatureUnit\", StringType(), True),\n",
    "    StructField(\"windSpeed\", StringType(), True),\n",
    "    StructField(\"windDirection\", StringType(), True),\n",
    "    StructField(\"shortForecast\", StringType(), True),\n",
    "    StructField(\"detailedForecast\", StringType(), True)\n",
    "])\n",
    "\n",
    "# Criando um RDD a partir da string JSON e lendo como DataFrame Spark\n",
    "rdd = spark.sparkContext.parallelize([forecast_json])\n",
    "df_bronze = spark.read.json(rdd, schema=schema)\n",
    "df_bronze.show()  # Exibindo uma amostra dos dados"
   ]
  },
  {
   "cell_type": "code",
   "execution_count": 0,
   "metadata": {
    "application/vnd.databricks.v1+cell": {
     "cellMetadata": {
      "byteLimit": 2048000,
      "rowLimit": 10000
     },
     "inputWidgets": {},
     "nuid": "034717c8-87d6-4a19-b330-8c4ed8b808b9",
     "showTitle": false,
     "title": ""
    }
   },
   "outputs": [
    {
     "output_type": "stream",
     "name": "stdout",
     "output_type": "stream",
     "text": [
      "Dados salvos no Bronze layer.\n"
     ]
    }
   ],
   "source": [
    "%py\n",
    "\n",
    "# Salvando os dados em formato CSV no Bronze Layer\n",
    "df_bronze.write.csv('/mnt/bronze/forecast_bronze.csv', mode='overwrite', header=True)\n",
    "\n",
    "print(\"Dados salvos no Bronze layer.\")"
   ]
  },
  {
   "cell_type": "code",
   "execution_count": 0,
   "metadata": {
    "application/vnd.databricks.v1+cell": {
     "cellMetadata": {
      "byteLimit": 2048000,
      "rowLimit": 10000
     },
     "inputWidgets": {},
     "nuid": "24ce8810-9cda-4e28-8be7-eea455b898d3",
     "showTitle": false,
     "title": ""
    }
   },
   "outputs": [
    {
     "output_type": "stream",
     "name": "stdout",
     "output_type": "stream",
     "text": [
      "+------+---------------+-------------------+-------------------+-----------+---------------+------------+-------------+--------------------+--------------------+\n|number|           name|          startTime|            endTime|temperature|temperatureUnit|   windSpeed|windDirection|       shortForecast|    detailedForecast|\n+------+---------------+-------------------+-------------------+-----------+---------------+------------+-------------+--------------------+--------------------+\n|     1| This Afternoon|2024-09-12 22:00:00|2024-09-12 23:00:00|         86|              F|      10 mph|          SSE|        Mostly Sunny|Mostly sunny, wit...|\n|     2|        Tonight|2024-09-12 23:00:00|2024-09-13 11:00:00|         63|              F| 5 to 10 mph|           SE|        Mostly Clear|Mostly clear, wit...|\n|     3|         Friday|2024-09-13 11:00:00|2024-09-13 23:00:00|         84|              F| 5 to 10 mph|           SE|               Sunny|Sunny, with a hig...|\n|     4|   Friday Night|2024-09-13 23:00:00|2024-09-14 11:00:00|         65|              F| 5 to 10 mph|           SE|Mostly Cloudy the...|A chance of showe...|\n|     5|       Saturday|2024-09-14 11:00:00|2024-09-14 23:00:00|         78|              F|       5 mph|           SE|Chance Showers An...|A chance of showe...|\n|     6| Saturday Night|2024-09-14 23:00:00|2024-09-15 11:00:00|         65|              F|       5 mph|           SE|Chance Showers An...|A chance of showe...|\n|     7|         Sunday|2024-09-15 11:00:00|2024-09-15 23:00:00|         85|              F| 5 to 10 mph|          SSE|        Mostly Sunny|Mostly sunny. Hig...|\n|     8|   Sunday Night|2024-09-15 23:00:00|2024-09-16 11:00:00|         66|              F|       5 mph|          SSE|        Mostly Clear|Mostly clear, wit...|\n|     9|         Monday|2024-09-16 11:00:00|2024-09-16 23:00:00|         83|              F| 5 to 10 mph|          SSE|        Mostly Sunny|Mostly sunny, wit...|\n|    10|   Monday Night|2024-09-16 23:00:00|2024-09-17 11:00:00|         66|              F| 5 to 10 mph|          SSE|       Partly Cloudy|Partly cloudy, wi...|\n|    11|        Tuesday|2024-09-17 11:00:00|2024-09-17 23:00:00|         83|              F| 5 to 15 mph|          SSE|        Mostly Sunny|Mostly sunny, wit...|\n|    12|  Tuesday Night|2024-09-17 23:00:00|2024-09-18 11:00:00|         67|              F|      10 mph|          SSE|Mostly Clear then...|A slight chance o...|\n|    13|      Wednesday|2024-09-18 11:00:00|2024-09-18 23:00:00|         82|              F|10 to 15 mph|          SSE|Chance Showers An...|A slight chance o...|\n|    14|Wednesday Night|2024-09-18 23:00:00|2024-09-19 11:00:00|         65|              F| 5 to 10 mph|          SSE|Chance Showers An...|A chance of rain ...|\n+------+---------------+-------------------+-------------------+-----------+---------------+------------+-------------+--------------------+--------------------+\n\n"
     ]
    }
   ],
   "source": [
    "%py\n",
    "\n",
    "# Lendo os dados do CSV bronze\n",
    "df_bronze = spark.read.csv('/mnt/bronze/forecast_bronze.csv', header=True, inferSchema=True)\n",
    "df_bronze.show()  # Exibindo uma amostra dos dados"
   ]
  },
  {
   "cell_type": "code",
   "execution_count": 0,
   "metadata": {
    "application/vnd.databricks.v1+cell": {
     "cellMetadata": {
      "byteLimit": 2048000,
      "rowLimit": 10000
     },
     "inputWidgets": {},
     "nuid": "92a272bb-88d2-4034-b900-677f72a6e89d",
     "showTitle": false,
     "title": ""
    }
   },
   "outputs": [
    {
     "output_type": "stream",
     "name": "stdout",
     "output_type": "stream",
     "text": [
      "+---------------+-----------+------------+--------------------+\n|           name|temperature|   windSpeed|       shortForecast|\n+---------------+-----------+------------+--------------------+\n| This Afternoon|         86|      10 mph|        Mostly Sunny|\n|        Tonight|         63| 5 to 10 mph|        Mostly Clear|\n|         Friday|         84| 5 to 10 mph|               Sunny|\n|   Friday Night|         65| 5 to 10 mph|Mostly Cloudy the...|\n|       Saturday|         78|       5 mph|Chance Showers An...|\n| Saturday Night|         65|       5 mph|Chance Showers An...|\n|         Sunday|         85| 5 to 10 mph|        Mostly Sunny|\n|   Sunday Night|         66|       5 mph|        Mostly Clear|\n|         Monday|         83| 5 to 10 mph|        Mostly Sunny|\n|   Monday Night|         66| 5 to 10 mph|       Partly Cloudy|\n|        Tuesday|         83| 5 to 15 mph|        Mostly Sunny|\n|  Tuesday Night|         67|      10 mph|Mostly Clear then...|\n|      Wednesday|         82|10 to 15 mph|Chance Showers An...|\n|Wednesday Night|         65| 5 to 10 mph|Chance Showers An...|\n+---------------+-----------+------------+--------------------+\n\n"
     ]
    }
   ],
   "source": [
    "%py\n",
    "\n",
    "# Selecionando colunas específicas para o Silver Layer\n",
    "df_silver = df_bronze.select(\"name\", \"temperature\", \"windSpeed\", \"shortForecast\")\n",
    "df_silver.show()  # Exibindo uma amostra dos dados transformados"
   ]
  },
  {
   "cell_type": "code",
   "execution_count": 0,
   "metadata": {
    "application/vnd.databricks.v1+cell": {
     "cellMetadata": {
      "byteLimit": 2048000,
      "rowLimit": 10000
     },
     "inputWidgets": {},
     "nuid": "0a65f5e1-36a8-4522-bda0-5f849525906d",
     "showTitle": false,
     "title": ""
    }
   },
   "outputs": [
    {
     "output_type": "stream",
     "name": "stdout",
     "output_type": "stream",
     "text": [
      "Dados transformados e salvos no Silver layer.\n"
     ]
    }
   ],
   "source": [
    "%py\n",
    "\n",
    "# Salvando os dados transformados no Silver Layer\n",
    "df_silver.write.csv('/mnt/silver/forecast_silver.csv', mode='overwrite', header=True)\n",
    "\n",
    "print(\"Dados transformados e salvos no Silver layer.\")"
   ]
  }
 ],
 "metadata": {
  "application/vnd.databricks.v1+notebook": {
   "dashboards": [],
   "environmentMetadata": null,
   "language": "python",
   "notebookMetadata": {
    "pythonIndentUnit": 4
   },
   "notebookName": "forecast_etl",
   "widgets": {}
  }
 },
 "nbformat": 4,
 "nbformat_minor": 0
}
